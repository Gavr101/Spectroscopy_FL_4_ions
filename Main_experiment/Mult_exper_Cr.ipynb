{
 "cells": [
  {
   "cell_type": "code",
   "execution_count": 1,
   "metadata": {},
   "outputs": [],
   "source": [
    "import os\n",
    "import sys\n",
    "import numpy as np\n",
    "import pandas as pd\n",
    "from copy import deepcopy\n",
    "from tqdm import tqdm\n",
    "\n",
    "import matplotlib.pyplot as plt\n",
    "import plotly\n",
    "import plotly.graph_objs as go\n",
    "import plotly.express as px\n",
    "from plotly.subplots import make_subplots\n",
    "import seaborn as sns\n",
    "\n",
    "from sklearn.model_selection import train_test_split\n",
    "from sklearn.preprocessing import StandardScaler\n",
    "from sklearn.neural_network import MLPRegressor\n",
    "from sklearn.ensemble import RandomForestRegressor, GradientBoostingRegressor\n",
    "from sklearn.metrics import mean_squared_error, r2_score, mean_absolute_error\n",
    "from sklearn.model_selection import GridSearchCV, RandomizedSearchCV\n",
    "\n",
    "import torch\n",
    "from kan import KAN\n",
    "\n",
    "from tqdm import tqdm"
   ]
  },
  {
   "cell_type": "code",
   "execution_count": 2,
   "metadata": {},
   "outputs": [],
   "source": [
    "project_dir = os.path.dirname(os.path.dirname(os.path.abspath('__file__')))\n",
    "sys.path.append(project_dir)\n",
    "\n",
    "from raw_data_processing import get_x, get_y, get_wavelength\n",
    "from tools import JSON_Read, plotly_multi_scatter, get_all_sqz_input, KAN_es"
   ]
  },
  {
   "cell_type": "code",
   "execution_count": 3,
   "metadata": {},
   "outputs": [],
   "source": [
    "SCRIPT_DIR = os.path.abspath('')"
   ]
  },
  {
   "cell_type": "markdown",
   "metadata": {},
   "source": [
    "## Loading data"
   ]
  },
  {
   "cell_type": "code",
   "execution_count": 4,
   "metadata": {},
   "outputs": [],
   "source": [
    "d_config = JSON_Read(\"\", \"json_config.txt\")\n",
    "\n",
    "EXCITE_WAVE_LENGTH = d_config['EXCITE_WAVE_LENGTH']\n",
    "PREDICT_IONS = 'Cr'#d_config['PREDICT_IONS']\n",
    "SPEC_FOLDER = d_config['SPEC_FOLDER']\n",
    "\n",
    "TRAIN_TEST_RATIO = d_config['TRAIN_TEST_RATIO']\n",
    "VALIDATION_TRAIN_RATIO = d_config['VALIDATION_TRAIN_RATIO']\n",
    "N_ITER_NO_CHANGE = d_config['N_ITER_NO_CHANGE']\n",
    "\n",
    "HIDDEN_LAYER_SIZES = d_config['HIDDEN_LAYER_SIZES']\n",
    "ACTIVATION = d_config['ACTIVATION']\n",
    "SOLVER = d_config['SOLVER']\n",
    "MAX_ITER = d_config['MAX_ITER']\n",
    "TOL = d_config['TOL']"
   ]
  },
  {
   "cell_type": "code",
   "execution_count": 5,
   "metadata": {},
   "outputs": [],
   "source": [
    "x = get_x(wave_length=EXCITE_WAVE_LENGTH, spec_file=project_dir+'\\\\'+SPEC_FOLDER)\n",
    "y = get_y(l_ions=PREDICT_IONS, spec_file=project_dir+'\\\\'+SPEC_FOLDER)"
   ]
  },
  {
   "cell_type": "markdown",
   "metadata": {},
   "source": [
    "# Squeeze input data"
   ]
  },
  {
   "cell_type": "code",
   "execution_count": 6,
   "metadata": {},
   "outputs": [],
   "source": [
    "l_wavelenth = get_wavelength(spec_file=project_dir+'\\\\'+SPEC_FOLDER)"
   ]
  },
  {
   "cell_type": "code",
   "execution_count": 7,
   "metadata": {},
   "outputs": [],
   "source": [
    "x_matrix, y_matrix = np.broadcast_to(l_wavelenth, (len(x), len(l_wavelenth))), x.to_numpy()\n",
    "\n",
    "x_sqz = get_all_sqz_input(x_matrix, y_matrix)"
   ]
  },
  {
   "cell_type": "code",
   "execution_count": 8,
   "metadata": {},
   "outputs": [],
   "source": [
    "def alg_KAN_es(x, y, seed = None, num_hn=1,\n",
    "               K=3, GRID = 3,\n",
    "               lamb=0., lamb_l1=1., lamb_entropy=2.,\n",
    "               steps=200, tol=0.001, n_iter_no_change=10):\n",
    "    \n",
    "    x_train, x_test, y_train, y_test = train_test_split(x, y, \n",
    "                                                        train_size=TRAIN_TEST_RATIO,\n",
    "                                                        random_state=seed)\n",
    "\n",
    "    x_val, x_train, y_val, y_train = train_test_split(x_train, y_train, \n",
    "                                                      train_size=VALIDATION_TRAIN_RATIO, \n",
    "                                                      random_state=seed)\n",
    "    scaler = StandardScaler()\n",
    "    x_train = scaler.fit_transform(x_train)\n",
    "    x_val = scaler.transform(x_val)\n",
    "    x_test = scaler.transform(x_test)\n",
    "\n",
    "    tc_x_train = torch.from_numpy(x_train).float()\n",
    "    tc_y_train = torch.from_numpy(y_train.reshape([-1,1])).float()\n",
    "    tc_x_val = torch.from_numpy(x_val).float()\n",
    "    tc_y_val = torch.from_numpy(y_val).reshape([-1,1]).float()\n",
    "    tc_x_test = torch.from_numpy(x_test).float()\n",
    "    tc_y_test = torch.from_numpy(y_test).reshape([-1,1]).float()\n",
    "\n",
    "    dataset_3 = {'train_input': tc_x_train,\n",
    "                 'train_label': tc_y_train,\n",
    "                 'val_input': tc_x_val,\n",
    "                 'val_label': tc_y_val,\n",
    "                 'test_input': tc_x_test,\n",
    "                 'test_label': tc_y_test}\n",
    "    \n",
    "    INPUT_SHAPE = tc_x_test.shape[1]\n",
    "\n",
    "    model_es = KAN_es(width=[INPUT_SHAPE, num_hn, 1], grid=GRID, k=K, seed=seed)\n",
    "    result_es = model_es.train_es(dataset_3, \n",
    "                                  tol=tol, \n",
    "                                  n_iter_no_change=n_iter_no_change,\n",
    "                                  opt=\"LBFGS\", steps=steps, \n",
    "                                  lamb=lamb,\n",
    "                                  lamb_l1=lamb_l1,\n",
    "                                  lamb_entropy=lamb_entropy\n",
    "                                  )\n",
    "    \n",
    "    pred_test = model_es(dataset_3['test_input']).cpu().detach().numpy().ravel()\n",
    "    rmse = mean_squared_error(y_test, pred_test)\n",
    "    r2 = r2_score(y_test, pred_test)\n",
    "    mae = mean_absolute_error(y_test, pred_test)\n",
    "\n",
    "    return [rmse, r2, mae]"
   ]
  },
  {
   "cell_type": "code",
   "execution_count": 9,
   "metadata": {},
   "outputs": [],
   "source": [
    "def alg_skl_model(x, y, class_model, model_kwargs, seed = None):\n",
    "    \n",
    "    x_train, x_test, y_train, y_test = train_test_split(x, y, \n",
    "                                                        train_size=TRAIN_TEST_RATIO,\n",
    "                                                        random_state=seed)\n",
    "    \n",
    "    scaler = StandardScaler()\n",
    "    x_train = scaler.fit_transform(x_train)\n",
    "    x_test = scaler.transform(x_test)\n",
    "\n",
    "    #print(model_kwargs)\n",
    "    model = class_model(random_state=seed, **model_kwargs)\n",
    "    model.fit(x_train, y_train)\n",
    "\n",
    "    pred_test = model.predict(x_test)\n",
    "    rmse = mean_squared_error(y_test, pred_test)\n",
    "    r2 = r2_score(y_test, pred_test)\n",
    "    mae = mean_absolute_error(y_test, pred_test)\n",
    "\n",
    "    return [rmse, r2, mae]"
   ]
  },
  {
   "cell_type": "code",
   "execution_count": 10,
   "metadata": {},
   "outputs": [
    {
     "data": {
      "text/plain": [
       "(64, 'tanh', 100, 0.001)"
      ]
     },
     "execution_count": 10,
     "metadata": {},
     "output_type": "execute_result"
    }
   ],
   "source": [
    "HIDDEN_LAYER_SIZES, ACTIVATION, N_ITER_NO_CHANGE, TOL"
   ]
  },
  {
   "cell_type": "code",
   "execution_count": 11,
   "metadata": {},
   "outputs": [],
   "source": [
    "MLP_model_kwargs = {'hidden_layer_sizes': HIDDEN_LAYER_SIZES,\n",
    "                  'activation': ACTIVATION,\n",
    "                  'solver': SOLVER,\n",
    "                  'early_stopping': True,\n",
    "                  'validation_fraction': VALIDATION_TRAIN_RATIO,\n",
    "                  'n_iter_no_change': N_ITER_NO_CHANGE,\n",
    "                  'learning_rate_init': 0.001,\n",
    "                  'learning_rate': 'adaptive',\n",
    "                  'max_iter': MAX_ITER,\n",
    "                  'tol': TOL}\n",
    "\n",
    "GB_model_kwargs = {'validation_fraction': VALIDATION_TRAIN_RATIO,\n",
    "                   'n_iter_no_change': N_ITER_NO_CHANGE}\n",
    "\n",
    "RF_model_kwargs = {}"
   ]
  },
  {
   "cell_type": "code",
   "execution_count": 12,
   "metadata": {},
   "outputs": [],
   "source": [
    "def multi_exp(l_algos_names,\n",
    "              l_algos,\n",
    "              mult_X_Y,\n",
    "              l_kwargs,\n",
    "              l_metrics_names,\n",
    "              num_iter):\n",
    "    ''' Function, that process algos(X, Y) and returns df of their metrics. \n",
    "    '''\n",
    "    res_list = []\n",
    "\n",
    "    for alg, (x, y), kwargs, alg_name in zip(l_algos, mult_X_Y, l_kwargs, l_algos_names):\n",
    "        print(f'--- Processing {alg_name}')\n",
    "\n",
    "        for i in range(1, num_iter+1):\n",
    "            print(f'iter: {i}')\n",
    "            #print(kwargs)\n",
    "            l_metrics = alg(x, y, seed=i, **kwargs)\n",
    "            res_list.append([alg_name, i]+l_metrics)\n",
    "        print('-------')\n",
    "\n",
    "    return pd.DataFrame(res_list, columns=['alg_name', 'iter']+l_metrics_names)"
   ]
  },
  {
   "cell_type": "markdown",
   "metadata": {},
   "source": [
    "#### Full start: KAN, MLP, RF, GB"
   ]
  },
  {
   "cell_type": "code",
   "execution_count": 21,
   "metadata": {},
   "outputs": [],
   "source": [
    "l_algos_names=['500_KAN', '500_MLP', '500_RF', '500_GB',\n",
    "               '5_KAN', '5_MLP', '5_RF', '5_GB']\n",
    "\n",
    "l_algos=[alg_KAN_es, alg_skl_model, alg_skl_model, alg_skl_model,\n",
    "         alg_KAN_es, alg_skl_model, alg_skl_model, alg_skl_model]\n",
    "\n",
    "mult_X_Y=[(x, y), (x, y), (x, y), (x, y), \n",
    "          (x_sqz, y), (x_sqz, y), (x_sqz, y), (x_sqz, y)]\n",
    "\n",
    "l_kwargs=[{},\n",
    "          {'class_model': MLPRegressor,'model_kwargs': MLP_model_kwargs},\n",
    "          {'class_model': RandomForestRegressor,'model_kwargs': RF_model_kwargs},\n",
    "          {'class_model': GradientBoostingRegressor,'model_kwargs': GB_model_kwargs},\n",
    "          {},\n",
    "          {'class_model': MLPRegressor,'model_kwargs': MLP_model_kwargs},\n",
    "          {'class_model': RandomForestRegressor,'model_kwargs': RF_model_kwargs},\n",
    "          {'class_model': GradientBoostingRegressor,'model_kwargs': GB_model_kwargs},]\n",
    "\n",
    "l_metrics_names=['rmse', 'r2', 'mae']\n",
    "\n",
    "num_iter=100"
   ]
  },
  {
   "cell_type": "code",
   "execution_count": null,
   "metadata": {},
   "outputs": [],
   "source": [
    "full_df = multi_exp(l_algos_names=l_algos_names,\n",
    "                    l_algos=l_algos,\n",
    "                    mult_X_Y=mult_X_Y,\n",
    "                    l_kwargs=l_kwargs,\n",
    "                    l_metrics_names=l_metrics_names,\n",
    "                    num_iter=num_iter)"
   ]
  },
  {
   "cell_type": "code",
   "execution_count": 22,
   "metadata": {},
   "outputs": [
    {
     "data": {
      "text/html": [
       "<div>\n",
       "<style scoped>\n",
       "    .dataframe tbody tr th:only-of-type {\n",
       "        vertical-align: middle;\n",
       "    }\n",
       "\n",
       "    .dataframe tbody tr th {\n",
       "        vertical-align: top;\n",
       "    }\n",
       "\n",
       "    .dataframe thead th {\n",
       "        text-align: right;\n",
       "    }\n",
       "</style>\n",
       "<table border=\"1\" class=\"dataframe\">\n",
       "  <thead>\n",
       "    <tr style=\"text-align: right;\">\n",
       "      <th></th>\n",
       "      <th>alg_name</th>\n",
       "      <th>iter</th>\n",
       "      <th>rmse</th>\n",
       "      <th>r2</th>\n",
       "      <th>mae</th>\n",
       "    </tr>\n",
       "  </thead>\n",
       "  <tbody>\n",
       "    <tr>\n",
       "      <th>0</th>\n",
       "      <td>500_MLP</td>\n",
       "      <td>1</td>\n",
       "      <td>0.962636</td>\n",
       "      <td>0.568213</td>\n",
       "      <td>0.761700</td>\n",
       "    </tr>\n",
       "    <tr>\n",
       "      <th>1</th>\n",
       "      <td>500_MLP</td>\n",
       "      <td>2</td>\n",
       "      <td>0.928767</td>\n",
       "      <td>0.627589</td>\n",
       "      <td>0.763386</td>\n",
       "    </tr>\n",
       "    <tr>\n",
       "      <th>2</th>\n",
       "      <td>500_MLP</td>\n",
       "      <td>3</td>\n",
       "      <td>1.517862</td>\n",
       "      <td>0.392608</td>\n",
       "      <td>0.972212</td>\n",
       "    </tr>\n",
       "    <tr>\n",
       "      <th>3</th>\n",
       "      <td>500_MLP</td>\n",
       "      <td>4</td>\n",
       "      <td>0.751521</td>\n",
       "      <td>0.710972</td>\n",
       "      <td>0.699097</td>\n",
       "    </tr>\n",
       "    <tr>\n",
       "      <th>4</th>\n",
       "      <td>500_MLP</td>\n",
       "      <td>5</td>\n",
       "      <td>0.985044</td>\n",
       "      <td>0.588721</td>\n",
       "      <td>0.786878</td>\n",
       "    </tr>\n",
       "    <tr>\n",
       "      <th>...</th>\n",
       "      <td>...</td>\n",
       "      <td>...</td>\n",
       "      <td>...</td>\n",
       "      <td>...</td>\n",
       "      <td>...</td>\n",
       "    </tr>\n",
       "    <tr>\n",
       "      <th>95</th>\n",
       "      <td>500_MLP</td>\n",
       "      <td>96</td>\n",
       "      <td>1.460403</td>\n",
       "      <td>0.412507</td>\n",
       "      <td>0.993610</td>\n",
       "    </tr>\n",
       "    <tr>\n",
       "      <th>96</th>\n",
       "      <td>500_MLP</td>\n",
       "      <td>97</td>\n",
       "      <td>1.386594</td>\n",
       "      <td>0.465629</td>\n",
       "      <td>0.959889</td>\n",
       "    </tr>\n",
       "    <tr>\n",
       "      <th>97</th>\n",
       "      <td>500_MLP</td>\n",
       "      <td>98</td>\n",
       "      <td>1.044120</td>\n",
       "      <td>0.574523</td>\n",
       "      <td>0.790599</td>\n",
       "    </tr>\n",
       "    <tr>\n",
       "      <th>98</th>\n",
       "      <td>500_MLP</td>\n",
       "      <td>99</td>\n",
       "      <td>1.097059</td>\n",
       "      <td>0.580657</td>\n",
       "      <td>0.814327</td>\n",
       "    </tr>\n",
       "    <tr>\n",
       "      <th>99</th>\n",
       "      <td>500_MLP</td>\n",
       "      <td>100</td>\n",
       "      <td>0.848080</td>\n",
       "      <td>0.672216</td>\n",
       "      <td>0.688566</td>\n",
       "    </tr>\n",
       "  </tbody>\n",
       "</table>\n",
       "<p>100 rows × 5 columns</p>\n",
       "</div>"
      ],
      "text/plain": [
       "   alg_name  iter      rmse        r2       mae\n",
       "0   500_MLP     1  0.962636  0.568213  0.761700\n",
       "1   500_MLP     2  0.928767  0.627589  0.763386\n",
       "2   500_MLP     3  1.517862  0.392608  0.972212\n",
       "3   500_MLP     4  0.751521  0.710972  0.699097\n",
       "4   500_MLP     5  0.985044  0.588721  0.786878\n",
       "..      ...   ...       ...       ...       ...\n",
       "95  500_MLP    96  1.460403  0.412507  0.993610\n",
       "96  500_MLP    97  1.386594  0.465629  0.959889\n",
       "97  500_MLP    98  1.044120  0.574523  0.790599\n",
       "98  500_MLP    99  1.097059  0.580657  0.814327\n",
       "99  500_MLP   100  0.848080  0.672216  0.688566\n",
       "\n",
       "[100 rows x 5 columns]"
      ]
     },
     "execution_count": 22,
     "metadata": {},
     "output_type": "execute_result"
    }
   ],
   "source": [
    "full_df"
   ]
  },
  {
   "cell_type": "code",
   "execution_count": null,
   "metadata": {},
   "outputs": [],
   "source": [
    "full_df.to_excel(f'full_metrics_{PREDICT_IONS}.xlsx')\n",
    "#pd.read_excel('full_metrics.xlsx').drop('Unnamed: 0', axis=1)"
   ]
  },
  {
   "cell_type": "code",
   "execution_count": null,
   "metadata": {},
   "outputs": [
    {
     "data": {
      "text/html": [
       "<div>\n",
       "<style scoped>\n",
       "    .dataframe tbody tr th:only-of-type {\n",
       "        vertical-align: middle;\n",
       "    }\n",
       "\n",
       "    .dataframe tbody tr th {\n",
       "        vertical-align: top;\n",
       "    }\n",
       "\n",
       "    .dataframe thead tr th {\n",
       "        text-align: left;\n",
       "    }\n",
       "\n",
       "    .dataframe thead tr:last-of-type th {\n",
       "        text-align: right;\n",
       "    }\n",
       "</style>\n",
       "<table border=\"1\" class=\"dataframe\">\n",
       "  <thead>\n",
       "    <tr>\n",
       "      <th></th>\n",
       "      <th colspan=\"2\" halign=\"left\">rmse</th>\n",
       "      <th colspan=\"2\" halign=\"left\">r2</th>\n",
       "      <th colspan=\"2\" halign=\"left\">mae</th>\n",
       "    </tr>\n",
       "    <tr>\n",
       "      <th></th>\n",
       "      <th>mean</th>\n",
       "      <th>std</th>\n",
       "      <th>mean</th>\n",
       "      <th>std</th>\n",
       "      <th>mean</th>\n",
       "      <th>std</th>\n",
       "    </tr>\n",
       "    <tr>\n",
       "      <th>alg_name</th>\n",
       "      <th></th>\n",
       "      <th></th>\n",
       "      <th></th>\n",
       "      <th></th>\n",
       "      <th></th>\n",
       "      <th></th>\n",
       "    </tr>\n",
       "  </thead>\n",
       "  <tbody>\n",
       "    <tr>\n",
       "      <th>500_MLP</th>\n",
       "      <td>1.102958</td>\n",
       "      <td>0.314997</td>\n",
       "      <td>0.555698</td>\n",
       "      <td>0.129397</td>\n",
       "      <td>0.822748</td>\n",
       "      <td>0.118162</td>\n",
       "    </tr>\n",
       "  </tbody>\n",
       "</table>\n",
       "</div>"
      ],
      "text/plain": [
       "              rmse                  r2                 mae          \n",
       "              mean       std      mean       std      mean       std\n",
       "alg_name                                                            \n",
       "500_MLP   1.102958  0.314997  0.555698  0.129397  0.822748  0.118162"
      ]
     },
     "execution_count": 24,
     "metadata": {},
     "output_type": "execute_result"
    }
   ],
   "source": [
    "aggr_df = full_df.groupby(['alg_name']).agg([\"mean\", \"std\"]).drop(['iter'], axis=1)\n",
    "#aggr_df.to_excel(f'aggr_metrics_{PREDICT_IONS}.xlsx')\n",
    "aggr_df"
   ]
  }
 ],
 "metadata": {
  "kernelspec": {
   "display_name": "base",
   "language": "python",
   "name": "python3"
  },
  "language_info": {
   "codemirror_mode": {
    "name": "ipython",
    "version": 3
   },
   "file_extension": ".py",
   "mimetype": "text/x-python",
   "name": "python",
   "nbconvert_exporter": "python",
   "pygments_lexer": "ipython3",
   "version": "3.11.5"
  }
 },
 "nbformat": 4,
 "nbformat_minor": 2
}
