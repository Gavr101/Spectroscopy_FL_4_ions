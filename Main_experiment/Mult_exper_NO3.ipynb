{
 "cells": [
  {
   "cell_type": "code",
   "execution_count": 1,
   "metadata": {},
   "outputs": [],
   "source": [
    "import os\n",
    "import sys\n",
    "import numpy as np\n",
    "import pandas as pd\n",
    "from copy import deepcopy\n",
    "from tqdm import tqdm\n",
    "\n",
    "import matplotlib.pyplot as plt\n",
    "import plotly\n",
    "import plotly.graph_objs as go\n",
    "import plotly.express as px\n",
    "from plotly.subplots import make_subplots\n",
    "import seaborn as sns\n",
    "\n",
    "from sklearn.model_selection import train_test_split\n",
    "from sklearn.preprocessing import StandardScaler\n",
    "from sklearn.neural_network import MLPRegressor\n",
    "from sklearn.ensemble import RandomForestRegressor, GradientBoostingRegressor\n",
    "from sklearn.metrics import mean_squared_error, r2_score, mean_absolute_error\n",
    "from sklearn.model_selection import GridSearchCV, RandomizedSearchCV\n",
    "\n",
    "import torch\n",
    "from kan import KAN\n",
    "\n",
    "from tqdm import tqdm"
   ]
  },
  {
   "cell_type": "code",
   "execution_count": 2,
   "metadata": {},
   "outputs": [],
   "source": [
    "from raw_data_processing import get_x, get_y, get_wavelength\n",
    "from tools import JSON_Read, plotly_multi_scatter, get_all_sqz_input, KAN_es"
   ]
  },
  {
   "cell_type": "code",
   "execution_count": 3,
   "metadata": {},
   "outputs": [],
   "source": [
    "SCRIPT_DIR = os.path.abspath('')"
   ]
  },
  {
   "cell_type": "markdown",
   "metadata": {},
   "source": [
    "## Loading data"
   ]
  },
  {
   "cell_type": "code",
   "execution_count": 4,
   "metadata": {},
   "outputs": [
    {
     "data": {
      "text/plain": [
       "{'SPEC_FOLDER': 'full_data',\n",
       " 'EXCITE_WAVE_LENGTH': 350,\n",
       " 'PREDICT_IONS': ['Cr'],\n",
       " 'TRAIN_TEST_RATIO': 0.9,\n",
       " 'VALIDATION_TRAIN_RATIO': 0.222,\n",
       " 'RANDOM_STATE_SPLIT': 42,\n",
       " 'N_ITER_NO_CHANGE': 100,\n",
       " 'HIDDEN_LAYER_SIZES': 64,\n",
       " 'RANDOM_STATE_TRAIN': 42,\n",
       " 'ACTIVATION': 'tanh',\n",
       " 'SOLVER': 'adam',\n",
       " 'EARLY_STOPPING': True,\n",
       " 'MAX_ITER': 10000,\n",
       " 'TOL': 0.001}"
      ]
     },
     "execution_count": 4,
     "metadata": {},
     "output_type": "execute_result"
    }
   ],
   "source": [
    "d_config = JSON_Read(\"\", \"json_config.txt\")\n",
    "\n",
    "EXCITE_WAVE_LENGTH = d_config['EXCITE_WAVE_LENGTH']\n",
    "PREDICT_IONS = 'NO3'#d_config['PREDICT_IONS']\n",
    "SPEC_FOLDER = d_config['SPEC_FOLDER']\n",
    "\n",
    "TRAIN_TEST_RATIO = d_config['TRAIN_TEST_RATIO']\n",
    "VALIDATION_TRAIN_RATIO = d_config['VALIDATION_TRAIN_RATIO']\n",
    "N_ITER_NO_CHANGE = d_config['N_ITER_NO_CHANGE'] # For KAN\n",
    "\n",
    "HIDDEN_LAYER_SIZES = d_config['HIDDEN_LAYER_SIZES']\n",
    "ACTIVATION = d_config['ACTIVATION']\n",
    "SOLVER = d_config['SOLVER']\n",
    "MAX_ITER = d_config['MAX_ITER'] # Upper bound of number of iterationd. For MLP\n",
    "TOL = d_config['TOL']\n",
    "\n",
    "d_config"
   ]
  },
  {
   "cell_type": "code",
   "execution_count": 5,
   "metadata": {},
   "outputs": [],
   "source": [
    "x = get_x(wave_length=EXCITE_WAVE_LENGTH, spec_file=\"\"+SPEC_FOLDER)\n",
    "y = get_y(l_ions=PREDICT_IONS, spec_file=\"\"+SPEC_FOLDER)"
   ]
  },
  {
   "cell_type": "code",
   "execution_count": 6,
   "metadata": {},
   "outputs": [
    {
     "data": {
      "text/plain": [
       "array([ 0.  ,  1.65,  3.3 ,  4.95,  6.6 ,  8.25,  9.9 , 11.55, 13.2 ,\n",
       "       14.85,  1.1 ,  2.75,  4.4 ,  6.05,  7.7 ,  9.35, 11.  , 12.65,\n",
       "       14.3 , 15.95,  2.2 ,  3.85,  5.5 ,  7.15,  8.8 , 10.45, 12.1 ,\n",
       "       13.75, 15.4 , 17.05,  3.3 ,  4.95,  6.6 ,  8.25,  9.9 , 11.55,\n",
       "       13.2 , 14.85, 16.5 , 18.15,  4.4 ,  6.05,  7.7 ,  9.35, 11.  ,\n",
       "       12.65, 14.3 , 15.95, 17.6 , 19.25,  5.5 ,  7.15,  8.8 , 10.45,\n",
       "       12.1 , 13.75, 15.4 , 17.05, 18.7 , 20.35,  6.6 ,  8.25,  9.9 ,\n",
       "       11.55, 13.2 , 14.85, 16.5 , 18.15, 19.8 , 21.45,  7.7 ,  9.35,\n",
       "       11.  , 12.65, 14.3 , 15.95, 17.6 , 19.25, 20.9 , 22.55,  8.8 ,\n",
       "       10.45, 12.1 , 13.75, 15.4 , 17.05, 18.7 , 20.35, 22.  , 23.65,\n",
       "        9.9 , 11.55, 13.2 , 14.85, 16.5 , 18.15, 19.8 , 21.45, 23.1 ,\n",
       "       24.75,  1.1 ,  2.75,  4.4 ,  6.05,  7.7 ,  9.35, 11.  , 12.65,\n",
       "       14.3 , 15.95,  2.2 ,  3.85,  5.5 ,  7.15,  8.8 , 10.45, 12.1 ,\n",
       "       13.75, 15.4 , 17.05,  3.3 ,  4.95,  6.6 ,  8.25,  9.9 , 11.55,\n",
       "       13.2 , 14.85, 16.5 , 18.15,  4.4 ,  6.05,  7.7 ,  9.35, 11.  ,\n",
       "       12.65, 14.3 , 15.95, 17.6 , 19.25,  5.5 ,  7.15,  8.8 , 10.45,\n",
       "       12.1 , 13.75, 15.4 , 17.05, 18.7 , 20.35,  6.6 ,  8.25,  9.9 ,\n",
       "       11.55, 13.2 , 14.85, 16.5 , 18.15, 19.8 , 21.45,  7.7 ,  9.35,\n",
       "       11.  , 12.65, 14.3 , 15.95, 17.6 , 19.25, 20.9 , 22.55,  8.8 ,\n",
       "       10.45, 12.1 , 13.75, 15.4 , 17.05, 18.7 , 20.35, 22.  , 23.65,\n",
       "        9.9 , 11.55, 13.2 , 14.85, 16.5 , 18.15, 19.8 , 21.45, 23.1 ,\n",
       "       24.75, 11.  , 12.65, 14.3 , 15.95, 17.6 , 19.25, 20.9 , 22.55,\n",
       "       24.2 , 25.85,  2.2 ,  3.85,  5.5 ,  7.15,  8.8 , 10.45, 12.1 ,\n",
       "       13.75, 15.4 , 17.05,  3.3 ,  4.95,  6.6 ,  8.25,  9.9 , 11.55,\n",
       "       13.2 , 14.85, 16.5 , 18.15,  4.4 ,  6.05,  7.7 ,  9.35, 11.  ,\n",
       "       12.65, 14.3 , 15.95, 17.6 , 19.25,  5.5 ,  7.15,  8.8 , 10.45,\n",
       "       12.1 , 13.75, 15.4 , 17.05, 18.7 , 20.35,  6.6 ,  8.25,  9.9 ,\n",
       "       11.55, 13.2 , 14.85, 16.5 , 18.15, 19.8 , 21.45,  7.7 ,  9.35,\n",
       "       11.  , 12.65, 14.3 , 15.95, 17.6 , 19.25, 20.9 , 22.55,  8.8 ,\n",
       "       10.45, 12.1 , 13.75, 15.4 , 17.05, 18.7 , 20.35, 22.  , 23.65,\n",
       "        9.9 , 11.55, 13.2 , 14.85, 16.5 , 18.15, 19.8 , 21.45, 23.1 ,\n",
       "       24.75, 11.  , 12.65, 14.3 , 15.95, 17.6 , 19.25, 20.9 , 22.55,\n",
       "       24.2 , 25.85, 12.1 , 13.75, 15.4 , 17.05, 18.7 , 20.35, 22.  ,\n",
       "       23.65, 25.3 , 26.95,  3.3 ,  4.95,  6.6 ,  8.25,  9.9 , 11.55,\n",
       "       13.2 , 14.85, 16.5 , 18.15,  4.4 ,  6.05,  7.7 ,  9.35, 11.  ,\n",
       "       12.65, 14.3 , 15.95, 17.6 , 19.25,  5.5 ,  7.15,  8.8 , 10.45,\n",
       "       12.1 , 13.75, 15.4 , 17.05, 18.7 , 20.35,  6.6 ,  8.25,  9.9 ,\n",
       "       11.55, 13.2 , 14.85, 16.5 , 18.15, 19.8 , 21.45,  7.7 ,  9.35,\n",
       "       11.  , 12.65, 14.3 , 15.95, 17.6 , 19.25, 20.9 , 22.55,  8.8 ,\n",
       "       10.45, 12.1 , 13.75, 15.4 , 17.05, 18.7 , 20.35, 22.  , 23.65,\n",
       "        9.9 , 11.55, 13.2 , 14.85, 16.5 , 18.15, 19.8 , 21.45, 23.1 ,\n",
       "       24.75, 11.  , 12.65, 14.3 , 15.95, 17.6 , 19.25, 20.9 , 22.55,\n",
       "       24.2 , 25.85, 12.1 , 13.75, 15.4 , 17.05, 18.7 , 20.35, 22.  ,\n",
       "       23.65, 25.3 , 26.95, 13.2 , 14.85, 16.5 , 18.15, 19.8 , 21.45,\n",
       "       23.1 , 24.75, 26.4 , 28.05,  4.4 ,  6.05,  7.7 ,  9.35, 11.  ,\n",
       "       12.65, 14.3 , 15.95, 17.6 , 19.25,  5.5 ,  7.15,  8.8 , 10.45,\n",
       "       12.1 , 13.75, 15.4 , 17.05, 18.7 , 20.35,  6.6 ,  8.25,  9.9 ,\n",
       "       11.55, 13.2 , 14.85, 16.5 , 18.15, 19.8 , 21.45,  7.7 ,  9.35,\n",
       "       11.  , 12.65, 14.3 , 15.95, 17.6 , 19.25, 20.9 , 22.55,  8.8 ,\n",
       "       10.45, 12.1 , 13.75, 15.4 , 17.05, 18.7 , 20.35, 22.  , 23.65,\n",
       "        9.9 , 11.55, 13.2 , 14.85, 16.5 , 18.15, 19.8 , 21.45, 23.1 ,\n",
       "       24.75, 11.  , 12.65, 14.3 , 15.95, 17.6 , 19.25, 20.9 , 22.55,\n",
       "       24.2 , 25.85, 12.1 , 13.75, 15.4 , 17.05, 18.7 , 20.35, 22.  ,\n",
       "       23.65, 25.3 , 26.95, 13.2 , 14.85, 16.5 , 18.15, 19.8 , 21.45,\n",
       "       23.1 , 24.75, 26.4 , 28.05, 14.3 , 15.95, 17.6 , 19.25, 20.9 ,\n",
       "       22.55, 24.2 , 25.85, 27.5 , 29.15,  5.5 ,  7.15,  8.8 , 10.45,\n",
       "       12.1 , 13.75, 15.4 , 17.05, 18.7 , 20.35,  6.6 ,  8.25,  9.9 ,\n",
       "       11.55, 13.2 , 14.85, 16.5 , 18.15, 19.8 , 21.45,  7.7 ,  9.35,\n",
       "       11.  , 12.65, 14.3 , 15.95, 17.6 , 19.25, 20.9 , 22.55,  8.8 ,\n",
       "       10.45, 12.1 , 13.75, 15.4 , 17.05, 18.7 , 20.35, 22.  , 23.65,\n",
       "        9.9 , 11.55, 13.2 , 14.85, 16.5 , 18.15, 19.8 , 21.45, 23.1 ,\n",
       "       24.75, 11.  , 12.65, 14.3 , 15.95, 17.6 , 19.25, 20.9 , 22.55,\n",
       "       24.2 , 25.85, 12.1 , 13.75, 15.4 , 17.05, 18.7 , 20.35, 22.  ,\n",
       "       23.65, 25.3 , 26.95, 13.2 , 14.85, 16.5 , 18.15, 19.8 , 21.45,\n",
       "       23.1 , 24.75, 26.4 , 28.05, 14.3 , 15.95, 17.6 , 19.25, 20.9 ,\n",
       "       22.55, 24.2 , 25.85, 27.5 , 29.15, 15.4 , 17.05, 18.7 , 20.35,\n",
       "       22.  , 23.65, 25.3 , 26.95, 28.6 , 30.25,  6.6 ,  8.25,  9.9 ,\n",
       "       11.55, 13.2 , 14.85, 16.5 , 18.15, 19.8 , 21.45,  7.7 ,  9.35,\n",
       "       11.  , 12.65, 14.3 , 15.95, 17.6 , 19.25, 20.9 , 22.55,  8.8 ,\n",
       "       10.45, 12.1 , 13.75, 15.4 , 17.05, 18.7 , 20.35, 22.  , 23.65,\n",
       "        9.9 , 11.55, 13.2 , 14.85, 16.5 , 18.15, 19.8 , 21.45, 23.1 ,\n",
       "       24.75, 11.  , 12.65, 14.3 , 15.95, 17.6 , 19.25, 20.9 , 22.55,\n",
       "       24.2 , 25.85, 12.1 , 13.75, 15.4 , 17.05, 18.7 , 20.35, 22.  ,\n",
       "       23.65, 25.3 , 26.95, 13.2 , 14.85, 16.5 , 18.15, 19.8 , 21.45,\n",
       "       23.1 , 24.75, 26.4 , 28.05, 14.3 , 15.95, 17.6 , 19.25, 20.9 ,\n",
       "       22.55, 24.2 , 25.85, 27.5 , 29.15, 15.4 , 17.05, 18.7 , 20.35,\n",
       "       22.  , 23.65, 25.3 , 26.95, 28.6 , 30.25, 16.5 , 18.15, 19.8 ,\n",
       "       21.45, 23.1 , 24.75, 26.4 , 28.05, 29.7 , 31.35,  7.7 ,  9.35,\n",
       "       11.  , 12.65, 14.3 , 15.95, 17.6 , 19.25, 20.9 , 22.55,  8.8 ,\n",
       "       10.45, 12.1 , 13.75, 15.4 , 17.05, 18.7 , 20.35, 22.  , 23.65,\n",
       "        9.9 , 11.55, 13.2 , 14.85, 16.5 , 18.15, 19.8 , 21.45, 23.1 ,\n",
       "       24.75, 11.  , 12.65, 14.3 , 15.95, 17.6 , 19.25, 20.9 , 22.55,\n",
       "       24.2 , 25.85, 12.1 , 13.75, 15.4 , 17.05, 18.7 , 20.35, 22.  ,\n",
       "       23.65, 25.3 , 26.95, 13.2 , 14.85, 16.5 , 18.15, 19.8 , 21.45,\n",
       "       23.1 , 24.75, 26.4 , 28.05, 14.3 , 15.95, 17.6 , 19.25, 20.9 ,\n",
       "       22.55, 24.2 , 25.85, 27.5 , 29.15, 15.4 , 17.05, 18.7 , 20.35,\n",
       "       22.  , 23.65, 25.3 , 26.95, 28.6 , 30.25, 16.5 , 18.15, 19.8 ,\n",
       "       21.45, 23.1 , 24.75, 26.4 , 28.05, 29.7 , 31.35, 17.6 , 19.25,\n",
       "       20.9 , 22.55, 24.2 , 25.85, 27.5 , 29.15, 30.8 , 32.45,  8.8 ,\n",
       "       10.45, 12.1 , 13.75, 15.4 , 17.05, 18.7 , 20.35, 22.  , 23.65,\n",
       "        9.9 , 11.55, 13.2 , 14.85, 16.5 , 18.15, 19.8 , 21.45, 23.1 ,\n",
       "       24.75, 11.  , 12.65, 14.3 , 15.95, 17.6 , 19.25, 20.9 , 22.55,\n",
       "       24.2 , 25.85, 12.1 , 13.75, 15.4 , 17.05, 18.7 , 20.35, 22.  ,\n",
       "       23.65, 25.3 , 26.95, 13.2 , 14.85, 16.5 , 18.15, 19.8 , 21.45,\n",
       "       23.1 , 24.75, 26.4 , 28.05, 14.3 , 15.95, 17.6 , 19.25, 20.9 ,\n",
       "       22.55, 24.2 , 25.85, 27.5 , 29.15, 15.4 , 17.05, 18.7 , 20.35,\n",
       "       22.  , 23.65, 25.3 , 26.95, 28.6 , 30.25, 16.5 , 18.15, 19.8 ,\n",
       "       21.45, 23.1 , 24.75, 26.4 , 28.05, 29.7 , 31.35, 17.6 , 19.25,\n",
       "       20.9 , 22.55, 24.2 , 25.85, 27.5 , 29.15, 30.8 , 32.45, 18.7 ,\n",
       "       20.35, 22.  , 23.65, 25.3 , 26.95, 28.6 , 30.25, 31.9 , 33.55,\n",
       "        9.9 , 11.55, 13.2 , 14.85, 16.5 , 18.15, 19.8 , 21.45, 23.1 ,\n",
       "       24.75, 11.  , 12.65, 14.3 , 15.95, 17.6 , 19.25, 20.9 , 22.55,\n",
       "       24.2 , 25.85, 12.1 , 13.75, 15.4 , 17.05, 18.7 , 20.35, 22.  ,\n",
       "       23.65, 25.3 , 26.95, 13.2 , 14.85, 16.5 , 18.15, 19.8 , 21.45,\n",
       "       23.1 , 24.75, 26.4 , 28.05, 14.3 , 15.95, 17.6 , 19.25, 20.9 ,\n",
       "       22.55, 24.2 , 25.85, 27.5 , 29.15, 15.4 , 17.05, 18.7 , 20.35,\n",
       "       22.  , 23.65, 25.3 , 26.95, 28.6 , 30.25, 16.5 , 18.15, 19.8 ,\n",
       "       21.45, 23.1 , 24.75, 26.4 , 28.05, 29.7 , 31.35, 17.6 , 19.25,\n",
       "       20.9 , 22.55, 24.2 , 25.85, 27.5 , 29.15, 30.8 , 32.45, 18.7 ,\n",
       "       20.35, 22.  , 23.65, 25.3 , 26.95, 28.6 , 30.25, 31.9 , 33.55,\n",
       "       19.8 , 21.45, 23.1 , 24.75, 26.4 , 28.05, 29.7 , 31.35, 33.  ,\n",
       "       34.65])"
      ]
     },
     "execution_count": 6,
     "metadata": {},
     "output_type": "execute_result"
    }
   ],
   "source": [
    "y"
   ]
  },
  {
   "cell_type": "markdown",
   "metadata": {},
   "source": [
    "# Squeeze input data"
   ]
  },
  {
   "cell_type": "code",
   "execution_count": 7,
   "metadata": {},
   "outputs": [],
   "source": [
    "l_wavelenth = get_wavelength(spec_file=\"\"+SPEC_FOLDER)"
   ]
  },
  {
   "cell_type": "code",
   "execution_count": 8,
   "metadata": {},
   "outputs": [],
   "source": [
    "x_matrix, y_matrix = np.broadcast_to(l_wavelenth, (len(x), len(l_wavelenth))), x.to_numpy()\n",
    "\n",
    "x_sqz = get_all_sqz_input(x_matrix, y_matrix)"
   ]
  },
  {
   "cell_type": "code",
   "execution_count": 9,
   "metadata": {},
   "outputs": [],
   "source": [
    "def alg_KAN_es(x, y, seed = None, num_hn=1,\n",
    "               K=3, GRID = 3,\n",
    "               lamb=0., lamb_l1=1., lamb_entropy=2.,\n",
    "               steps=200, tol=0.001, n_iter_no_change=10):\n",
    "    \n",
    "    x_train, x_test, y_train, y_test = train_test_split(x, y, \n",
    "                                                        train_size=TRAIN_TEST_RATIO,\n",
    "                                                        random_state=seed)\n",
    "\n",
    "    x_val, x_train, y_val, y_train = train_test_split(x_train, y_train, \n",
    "                                                      train_size=VALIDATION_TRAIN_RATIO, \n",
    "                                                      random_state=seed)\n",
    "    scaler = StandardScaler()\n",
    "    x_train = scaler.fit_transform(x_train)\n",
    "    x_val = scaler.transform(x_val)\n",
    "    x_test = scaler.transform(x_test)\n",
    "\n",
    "    tc_x_train = torch.from_numpy(x_train)\n",
    "    tc_y_train = torch.from_numpy(y_train.reshape([-1,1]))\n",
    "    tc_x_val = torch.from_numpy(x_val)\n",
    "    tc_y_val = torch.from_numpy(y_val).reshape([-1,1])\n",
    "    tc_x_test = torch.from_numpy(x_test)\n",
    "    tc_y_test = torch.from_numpy(y_test).reshape([-1,1])\n",
    "\n",
    "    dataset_3 = {'train_input': tc_x_train,\n",
    "                 'train_label': tc_y_train,\n",
    "                 'val_input': tc_x_val,\n",
    "                 'val_label': tc_y_val,\n",
    "                 'test_input': tc_x_test,\n",
    "                 'test_label': tc_y_test}\n",
    "    \n",
    "    INPUT_SHAPE = tc_x_test.shape[1]\n",
    "\n",
    "    model_es = KAN_es(width=[INPUT_SHAPE, num_hn, 1], grid=GRID, k=K, seed=seed)\n",
    "    result_es = model_es.train_es(dataset_3, \n",
    "                                  tol=tol, \n",
    "                                  n_iter_no_change=n_iter_no_change,\n",
    "                                  opt=\"LBFGS\", steps=steps, \n",
    "                                  lamb=lamb,\n",
    "                                  lamb_l1=lamb_l1,\n",
    "                                  lamb_entropy=lamb_entropy\n",
    "                                  )\n",
    "    \n",
    "    pred_test = model_es(dataset_3['test_input']).cpu().detach().numpy().ravel()\n",
    "    rmse = mean_squared_error(y_test, pred_test)\n",
    "    r2 = r2_score(y_test, pred_test)\n",
    "    mae = mean_absolute_error(y_test, pred_test)\n",
    "\n",
    "    return [rmse, r2, mae]"
   ]
  },
  {
   "cell_type": "code",
   "execution_count": 10,
   "metadata": {},
   "outputs": [],
   "source": [
    "def alg_skl_model(x, y, class_model, model_kwargs, seed = None):\n",
    "    \n",
    "    x_train, x_test, y_train, y_test = train_test_split(x, y, \n",
    "                                                        train_size=TRAIN_TEST_RATIO,\n",
    "                                                        random_state=seed)\n",
    "    \n",
    "    scaler = StandardScaler()\n",
    "    x_train = scaler.fit_transform(x_train)\n",
    "    x_test = scaler.transform(x_test)\n",
    "\n",
    "    #print(model_kwargs)\n",
    "    model = class_model(random_state=seed, **model_kwargs)\n",
    "    model.fit(x_train, y_train)\n",
    "\n",
    "    pred_test = model.predict(x_test)\n",
    "    rmse = mean_squared_error(y_test, pred_test)\n",
    "    r2 = r2_score(y_test, pred_test)\n",
    "    mae = mean_absolute_error(y_test, pred_test)\n",
    "\n",
    "    return [rmse, r2, mae]"
   ]
  },
  {
   "cell_type": "code",
   "execution_count": 11,
   "metadata": {},
   "outputs": [],
   "source": [
    "MLP_model_kwargs = {'hidden_layer_sizes': HIDDEN_LAYER_SIZES,\n",
    "                  'activation': ACTIVATION,\n",
    "                  'solver': SOLVER,\n",
    "                  'early_stopping': True,\n",
    "                  'validation_fraction': VALIDATION_TRAIN_RATIO,\n",
    "                  'n_iter_no_change': N_ITER_NO_CHANGE,\n",
    "                  'learning_rate_init': 0.001,\n",
    "                  'learning_rate': 'adaptive',\n",
    "                  'max_iter': MAX_ITER,\n",
    "                  'tol': TOL}\n",
    "\n",
    "GB_model_kwargs = {'validation_fraction': VALIDATION_TRAIN_RATIO,\n",
    "                   'n_iter_no_change': N_ITER_NO_CHANGE}\n",
    "\n",
    "RF_model_kwargs = {}"
   ]
  },
  {
   "cell_type": "code",
   "execution_count": 12,
   "metadata": {},
   "outputs": [
    {
     "data": {
      "text/plain": [
       "{'hidden_layer_sizes': 64,\n",
       " 'activation': 'tanh',\n",
       " 'solver': 'adam',\n",
       " 'early_stopping': True,\n",
       " 'validation_fraction': 0.222,\n",
       " 'n_iter_no_change': 100,\n",
       " 'learning_rate_init': 0.001,\n",
       " 'learning_rate': 'adaptive',\n",
       " 'max_iter': 10000,\n",
       " 'tol': 0.001}"
      ]
     },
     "execution_count": 12,
     "metadata": {},
     "output_type": "execute_result"
    }
   ],
   "source": [
    "MLP_model_kwargs"
   ]
  },
  {
   "cell_type": "markdown",
   "metadata": {},
   "source": [
    "# ---Debugging---"
   ]
  },
  {
   "cell_type": "code",
   "execution_count": 13,
   "metadata": {},
   "outputs": [],
   "source": [
    "def scatter_prediction(model, \n",
    "                       x, \n",
    "                       y_true, \n",
    "                       title = \"\"):\n",
    "    \"\"\"Evaluates MSE and R^2 of model. \n",
    "    Draws scatter plot of (y_true, y_predicted).\n",
    "    Returns  (mse, r2)\n",
    "    \"\"\"\n",
    "    y_pred = model.predict(x)\n",
    "    mse = mean_squared_error(y_true, y_pred)\n",
    "    r2 = r2_score(y_true, y_pred)\n",
    "    \n",
    "    fig, ax = plt.subplots(figsize=(5,5))\n",
    "    plt.plot(y_true, y_pred, 'o', markersize=2, alpha = 0.2) \n",
    "    plt.plot([min(y_true), max(y_true)], [min(y_true), max(y_true)], markersize=2, alpha = 0.5, color='r') \n",
    "    ax.set_title(f\"MSE={round(mse, 5)} | RMSE={round(mse**0.5, 5)} | R2={round(r2, 5)} | {title}\")\n",
    "    ax.set_xlabel(\"y_true\")\n",
    "    ax.set_ylabel(\"y_pred\")\n",
    "    plt.show()\n",
    "    \n",
    "    return mse, r2"
   ]
  },
  {
   "cell_type": "code",
   "execution_count": 14,
   "metadata": {},
   "outputs": [],
   "source": [
    "def alg_skl_model_dbg(x, y, class_model, model_kwargs, seed = None):\n",
    "\n",
    "    print('x shape:', x.shape)\n",
    "    \n",
    "    x_train, x_test, y_train, y_test = train_test_split(x, y, \n",
    "                                                        train_size=TRAIN_TEST_RATIO,\n",
    "                                                        random_state=seed)\n",
    "    \n",
    "    scaler = StandardScaler()\n",
    "    x_train = scaler.fit_transform(x_train)\n",
    "    x_test = scaler.transform(x_test)\n",
    "\n",
    "    #print(model_kwargs)\n",
    "    model = class_model(random_state=seed, **model_kwargs)\n",
    "    model.fit(x_train, y_train)\n",
    "\n",
    "    pred_test = model.predict(x_test)\n",
    "    rmse = mean_squared_error(y_test, pred_test)\n",
    "    r2 = r2_score(y_test, pred_test)\n",
    "    mae = mean_absolute_error(y_test, pred_test)\n",
    "\n",
    "    scatter_prediction(model, x_train, y_train, 'train')\n",
    "    scatter_prediction(model, x_test, y_test, 'test')\n",
    "\n",
    "    print(model.get_params())\n",
    "    #print(model.get_metadata_routing())\n",
    "\n",
    "    return [rmse, r2, mae]"
   ]
  },
  {
   "cell_type": "code",
   "execution_count": 15,
   "metadata": {},
   "outputs": [
    {
     "name": "stdout",
     "output_type": "stream",
     "text": [
      "x shape: (1000, 5)\n"
     ]
    },
    {
     "data": {
      "image/png": "[encoded data removed]",
      "text/plain": [
       "<Figure size 500x500 with 1 Axes>"
      ]
     },
     "metadata": {},
     "output_type": "display_data"
    },
    {
     "data": {
      "image/png": "[encoded data removed]",
      "text/plain": [
       "<Figure size 500x500 with 1 Axes>"
      ]
     },
     "metadata": {},
     "output_type": "display_data"
    },
    {
     "name": "stdout",
     "output_type": "stream",
     "text": [
      "{'activation': 'tanh', 'alpha': 0.0001, 'batch_size': 'auto', 'beta_1': 0.9, 'beta_2': 0.999, 'early_stopping': True, 'epsilon': 1e-08, 'hidden_layer_sizes': 64, 'learning_rate': 'adaptive', 'learning_rate_init': 0.001, 'max_fun': 15000, 'max_iter': 10000, 'momentum': 0.9, 'n_iter_no_change': 100, 'nesterovs_momentum': True, 'power_t': 0.5, 'random_state': None, 'shuffle': True, 'solver': 'adam', 'tol': 0.001, 'validation_fraction': 0.222, 'verbose': False, 'warm_start': False}\n"
     ]
    },
    {
     "data": {
      "text/plain": [
       "[10.824671447529306, 0.7582316427916022, 2.7303600035658]"
      ]
     },
     "execution_count": 15,
     "metadata": {},
     "output_type": "execute_result"
    }
   ],
   "source": [
    "alg_skl_model_dbg(x_sqz, y, MLPRegressor, MLP_model_kwargs)"
   ]
  },
  {
   "cell_type": "markdown",
   "metadata": {},
   "source": [
    "# ------"
   ]
  },
  {
   "cell_type": "code",
   "execution_count": 16,
   "metadata": {},
   "outputs": [],
   "source": [
    "def multi_exp(l_algos_names,\n",
    "              l_algos,\n",
    "              mult_X_Y,\n",
    "              l_kwargs,\n",
    "              l_metrics_names,\n",
    "              num_iter):\n",
    "    ''' Function, that process algos(X, Y) and returns df of their metrics. \n",
    "    '''\n",
    "    res_list = []\n",
    "\n",
    "    for alg, (x, y), kwargs, alg_name in zip(l_algos, mult_X_Y, l_kwargs, l_algos_names):\n",
    "        print(f'--- Processing {alg_name}')\n",
    "\n",
    "        for i in range(1, num_iter+1):\n",
    "            print(f'iter: {i}')\n",
    "            #print(kwargs)\n",
    "            l_metrics = alg(x, y, seed=i, **kwargs)\n",
    "            res_list.append([alg_name, i]+l_metrics)\n",
    "        print('-------')\n",
    "\n",
    "    return pd.DataFrame(res_list, columns=['alg_name', 'iter']+l_metrics_names)"
   ]
  },
  {
   "cell_type": "markdown",
   "metadata": {},
   "source": [
    "#### Full start: KAN, MLP, RF, GB"
   ]
  },
  {
   "cell_type": "code",
   "execution_count": 17,
   "metadata": {},
   "outputs": [],
   "source": [
    "l_algos_names=['500_KAN', '500_MLP', '500_RF', '500_GB',\n",
    "               '5_KAN', '5_MLP', '5_RF', '5_GB']\n",
    "\n",
    "l_algos=[alg_KAN_es, alg_skl_model, alg_skl_model, alg_skl_model,\n",
    "         alg_KAN_es, alg_skl_model, alg_skl_model, alg_skl_model]\n",
    "\n",
    "mult_X_Y=[(x, y), (x, y), (x, y), (x, y), \n",
    "          (x_sqz, y), (x_sqz, y), (x_sqz, y), (x_sqz, y)]\n",
    "\n",
    "l_kwargs=[{},\n",
    "          {'class_model': MLPRegressor,'model_kwargs': MLP_model_kwargs},\n",
    "          {'class_model': RandomForestRegressor,'model_kwargs': RF_model_kwargs},\n",
    "          {'class_model': GradientBoostingRegressor,'model_kwargs': GB_model_kwargs},\n",
    "          {},\n",
    "          {'class_model': MLPRegressor,'model_kwargs': MLP_model_kwargs},\n",
    "          {'class_model': RandomForestRegressor,'model_kwargs': RF_model_kwargs},\n",
    "          {'class_model': GradientBoostingRegressor,'model_kwargs': GB_model_kwargs},]\n",
    "\n",
    "l_metrics_names=['rmse', 'r2', 'mae']\n",
    "\n",
    "num_iter=100"
   ]
  },
  {
   "cell_type": "markdown",
   "metadata": {},
   "source": [
    "#### Full start except KAN: MLP, RF, GB"
   ]
  },
  {
   "cell_type": "code",
   "execution_count": 18,
   "metadata": {},
   "outputs": [
    {
     "data": {
      "text/plain": [
       "\"\\nl_algos_names=['500_MLP', '500_RF', '500_GB',\\n               '5_MLP', '5_RF', '5_GB']\\n\\nl_algos=[alg_skl_model, alg_skl_model, alg_skl_model,\\n         alg_skl_model, alg_skl_model, alg_skl_model]\\n\\nmult_X_Y=[(x, y), (x, y), (x, y), \\n          (x_sqz, y), (x_sqz, y), (x_sqz, y)]\\n\\nl_kwargs=[{'class_model': MLPRegressor,'model_kwargs': MLP_model_kwargs},\\n          {'class_model': RandomForestRegressor,'model_kwargs': RF_model_kwargs},\\n          {'class_model': GradientBoostingRegressor,'model_kwargs': GB_model_kwargs},\\n          {'class_model': MLPRegressor,'model_kwargs': MLP_model_kwargs},\\n          {'class_model': RandomForestRegressor,'model_kwargs': RF_model_kwargs},\\n          {'class_model': GradientBoostingRegressor,'model_kwargs': GB_model_kwargs},]\\n\\nl_metrics_names=['rmse', 'r2', 'mae']\\n\\nnum_iter=3\\n\""
      ]
     },
     "execution_count": 18,
     "metadata": {},
     "output_type": "execute_result"
    }
   ],
   "source": [
    "'''\n",
    "l_algos_names=['500_MLP', '500_RF', '500_GB',\n",
    "               '5_MLP', '5_RF', '5_GB']\n",
    "\n",
    "l_algos=[alg_skl_model, alg_skl_model, alg_skl_model,\n",
    "         alg_skl_model, alg_skl_model, alg_skl_model]\n",
    "\n",
    "mult_X_Y=[(x, y), (x, y), (x, y), \n",
    "          (x_sqz, y), (x_sqz, y), (x_sqz, y)]\n",
    "\n",
    "l_kwargs=[{'class_model': MLPRegressor,'model_kwargs': MLP_model_kwargs},\n",
    "          {'class_model': RandomForestRegressor,'model_kwargs': RF_model_kwargs},\n",
    "          {'class_model': GradientBoostingRegressor,'model_kwargs': GB_model_kwargs},\n",
    "          {'class_model': MLPRegressor,'model_kwargs': MLP_model_kwargs},\n",
    "          {'class_model': RandomForestRegressor,'model_kwargs': RF_model_kwargs},\n",
    "          {'class_model': GradientBoostingRegressor,'model_kwargs': GB_model_kwargs},]\n",
    "\n",
    "l_metrics_names=['rmse', 'r2', 'mae']\n",
    "\n",
    "num_iter=3\n",
    "'''"
   ]
  },
  {
   "cell_type": "markdown",
   "metadata": {},
   "source": [
    "#### Just MLP"
   ]
  },
  {
   "cell_type": "code",
   "execution_count": 19,
   "metadata": {},
   "outputs": [],
   "source": [
    "l_algos_names=['500_MLP',\n",
    "               '5_MLP']\n",
    "\n",
    "l_algos=[alg_skl_model,\n",
    "         alg_skl_model]\n",
    "\n",
    "mult_X_Y=[(x, y), \n",
    "          (x_sqz, y)]\n",
    "\n",
    "l_kwargs=[{'class_model': MLPRegressor,'model_kwargs': MLP_model_kwargs},\n",
    "          {'class_model': MLPRegressor,'model_kwargs': MLP_model_kwargs}]\n",
    "\n",
    "l_metrics_names=['rmse', 'r2', 'mae']\n",
    "\n",
    "num_iter=100"
   ]
  },
  {
   "cell_type": "markdown",
   "metadata": {},
   "source": [
    "#### KAN with different number of neurons in hidden layer: 2, 5"
   ]
  },
  {
   "cell_type": "code",
   "execution_count": 20,
   "metadata": {},
   "outputs": [],
   "source": [
    "l_algos_names=['500_KAN_2hn','500_KAN_5hn',\n",
    "               '5_KAN_2hn','5_KAN_5hn']\n",
    "\n",
    "l_algos=[alg_KAN_es, alg_KAN_es,\n",
    "         alg_KAN_es, alg_KAN_es]\n",
    "\n",
    "mult_X_Y=[(x, y), (x, y),\n",
    "          (x_sqz, y), (x_sqz, y)]\n",
    "\n",
    "l_kwargs=[{'num_hn': 2}, {'num_hn': 5},\n",
    "          {'num_hn': 2}, {'num_hn': 5}]\n",
    "\n",
    "l_metrics_names=['rmse', 'r2', 'mae']\n",
    "\n",
    "num_iter=100"
   ]
  },
  {
   "cell_type": "markdown",
   "metadata": {},
   "source": [
    "#### MLP with 500 input values with extended n_iter_no_change: 100-->500"
   ]
  },
  {
   "cell_type": "code",
   "execution_count": 21,
   "metadata": {},
   "outputs": [],
   "source": [
    "MLP_model_kwargs_1 = {'hidden_layer_sizes': HIDDEN_LAYER_SIZES,\n",
    "                  'activation': ACTIVATION,\n",
    "                  'solver': SOLVER,\n",
    "                  'early_stopping': True,\n",
    "                  'validation_fraction': VALIDATION_TRAIN_RATIO,\n",
    "                  'n_iter_no_change': 500,#N_ITER_NO_CHANGE,\n",
    "                  'learning_rate_init': 0.01,\n",
    "                  'learning_rate': 'adaptive',\n",
    "                  'max_iter': 100000,#MAX_ITER,\n",
    "                  'tol': TOL}\n",
    "\n",
    "l_algos_names=['500_MLP']\n",
    "\n",
    "l_algos=[alg_skl_model]\n",
    "\n",
    "mult_X_Y=[(x, y)]\n",
    "\n",
    "l_kwargs=[{'class_model': MLPRegressor,'model_kwargs': MLP_model_kwargs_1}]\n",
    "\n",
    "l_metrics_names=['rmse', 'r2', 'mae']\n",
    "\n",
    "num_iter=100"
   ]
  },
  {
   "cell_type": "code",
   "execution_count": 22,
   "metadata": {},
   "outputs": [
    {
     "name": "stdout",
     "output_type": "stream",
     "text": [
      "--- Processing 500_MLP\n",
      "iter: 1\n",
      "iter: 2\n",
      "iter: 3\n",
      "iter: 4\n",
      "iter: 5\n",
      "iter: 6\n",
      "iter: 7\n",
      "iter: 8\n",
      "iter: 9\n",
      "iter: 10\n",
      "iter: 11\n",
      "iter: 12\n",
      "iter: 13\n",
      "iter: 14\n",
      "iter: 15\n",
      "iter: 16\n",
      "iter: 17\n",
      "iter: 18\n",
      "iter: 19\n",
      "iter: 20\n",
      "iter: 21\n",
      "iter: 22\n",
      "iter: 23\n",
      "iter: 24\n",
      "iter: 25\n",
      "iter: 26\n",
      "iter: 27\n",
      "iter: 28\n",
      "iter: 29\n",
      "iter: 30\n",
      "iter: 31\n",
      "iter: 32\n",
      "iter: 33\n",
      "iter: 34\n",
      "iter: 35\n",
      "iter: 36\n",
      "iter: 37\n",
      "iter: 38\n",
      "iter: 39\n",
      "iter: 40\n",
      "iter: 41\n",
      "iter: 42\n",
      "iter: 43\n",
      "iter: 44\n",
      "iter: 45\n",
      "iter: 46\n",
      "iter: 47\n",
      "iter: 48\n",
      "iter: 49\n",
      "iter: 50\n",
      "iter: 51\n",
      "iter: 52\n",
      "iter: 53\n",
      "iter: 54\n",
      "iter: 55\n",
      "iter: 56\n",
      "iter: 57\n",
      "iter: 58\n",
      "iter: 59\n",
      "iter: 60\n",
      "iter: 61\n",
      "iter: 62\n",
      "iter: 63\n",
      "iter: 64\n",
      "iter: 65\n",
      "iter: 66\n",
      "iter: 67\n",
      "iter: 68\n",
      "iter: 69\n",
      "iter: 70\n",
      "iter: 71\n",
      "iter: 72\n",
      "iter: 73\n",
      "iter: 74\n",
      "iter: 75\n",
      "iter: 76\n",
      "iter: 77\n",
      "iter: 78\n",
      "iter: 79\n",
      "iter: 80\n",
      "iter: 81\n",
      "iter: 82\n",
      "iter: 83\n",
      "iter: 84\n",
      "iter: 85\n",
      "iter: 86\n",
      "iter: 87\n",
      "iter: 88\n",
      "iter: 89\n",
      "iter: 90\n",
      "iter: 91\n",
      "iter: 92\n",
      "iter: 93\n",
      "iter: 94\n",
      "iter: 95\n",
      "iter: 96\n",
      "iter: 97\n",
      "iter: 98\n",
      "iter: 99\n",
      "iter: 100\n",
      "-------\n"
     ]
    }
   ],
   "source": [
    "full_df = multi_exp(l_algos_names=l_algos_names,\n",
    "                    l_algos=l_algos,\n",
    "                    mult_X_Y=mult_X_Y,\n",
    "                    l_kwargs=l_kwargs,\n",
    "                    l_metrics_names=l_metrics_names,\n",
    "                    num_iter=num_iter)"
   ]
  },
  {
   "cell_type": "code",
   "execution_count": 23,
   "metadata": {},
   "outputs": [
    {
     "data": {
      "text/html": [
       "<div>\n",
       "<style scoped>\n",
       "    .dataframe tbody tr th:only-of-type {\n",
       "        vertical-align: middle;\n",
       "    }\n",
       "\n",
       "    .dataframe tbody tr th {\n",
       "        vertical-align: top;\n",
       "    }\n",
       "\n",
       "    .dataframe thead th {\n",
       "        text-align: right;\n",
       "    }\n",
       "</style>\n",
       "<table border=\"1\" class=\"dataframe\">\n",
       "  <thead>\n",
       "    <tr style=\"text-align: right;\">\n",
       "      <th></th>\n",
       "      <th>alg_name</th>\n",
       "      <th>iter</th>\n",
       "      <th>rmse</th>\n",
       "      <th>r2</th>\n",
       "      <th>mae</th>\n",
       "    </tr>\n",
       "  </thead>\n",
       "  <tbody>\n",
       "    <tr>\n",
       "      <th>0</th>\n",
       "      <td>500_MLP</td>\n",
       "      <td>1</td>\n",
       "      <td>43.688098</td>\n",
       "      <td>-0.285689</td>\n",
       "      <td>5.221067</td>\n",
       "    </tr>\n",
       "    <tr>\n",
       "      <th>1</th>\n",
       "      <td>500_MLP</td>\n",
       "      <td>2</td>\n",
       "      <td>41.528050</td>\n",
       "      <td>-0.023961</td>\n",
       "      <td>5.249898</td>\n",
       "    </tr>\n",
       "    <tr>\n",
       "      <th>2</th>\n",
       "      <td>500_MLP</td>\n",
       "      <td>3</td>\n",
       "      <td>44.974795</td>\n",
       "      <td>-0.174931</td>\n",
       "      <td>5.250698</td>\n",
       "    </tr>\n",
       "    <tr>\n",
       "      <th>3</th>\n",
       "      <td>500_MLP</td>\n",
       "      <td>4</td>\n",
       "      <td>58.048237</td>\n",
       "      <td>-0.476797</td>\n",
       "      <td>6.063438</td>\n",
       "    </tr>\n",
       "    <tr>\n",
       "      <th>4</th>\n",
       "      <td>500_MLP</td>\n",
       "      <td>5</td>\n",
       "      <td>47.828951</td>\n",
       "      <td>-0.101778</td>\n",
       "      <td>5.460061</td>\n",
       "    </tr>\n",
       "    <tr>\n",
       "      <th>...</th>\n",
       "      <td>...</td>\n",
       "      <td>...</td>\n",
       "      <td>...</td>\n",
       "      <td>...</td>\n",
       "      <td>...</td>\n",
       "    </tr>\n",
       "    <tr>\n",
       "      <th>95</th>\n",
       "      <td>500_MLP</td>\n",
       "      <td>96</td>\n",
       "      <td>86.105625</td>\n",
       "      <td>-0.856170</td>\n",
       "      <td>7.373743</td>\n",
       "    </tr>\n",
       "    <tr>\n",
       "      <th>96</th>\n",
       "      <td>500_MLP</td>\n",
       "      <td>97</td>\n",
       "      <td>47.155839</td>\n",
       "      <td>-0.019086</td>\n",
       "      <td>5.439292</td>\n",
       "    </tr>\n",
       "    <tr>\n",
       "      <th>97</th>\n",
       "      <td>500_MLP</td>\n",
       "      <td>98</td>\n",
       "      <td>33.333461</td>\n",
       "      <td>0.240746</td>\n",
       "      <td>4.586515</td>\n",
       "    </tr>\n",
       "    <tr>\n",
       "      <th>98</th>\n",
       "      <td>500_MLP</td>\n",
       "      <td>99</td>\n",
       "      <td>49.154776</td>\n",
       "      <td>-0.203005</td>\n",
       "      <td>5.424585</td>\n",
       "    </tr>\n",
       "    <tr>\n",
       "      <th>99</th>\n",
       "      <td>500_MLP</td>\n",
       "      <td>100</td>\n",
       "      <td>47.717019</td>\n",
       "      <td>-0.257172</td>\n",
       "      <td>5.277636</td>\n",
       "    </tr>\n",
       "  </tbody>\n",
       "</table>\n",
       "<p>100 rows × 5 columns</p>\n",
       "</div>"
      ],
      "text/plain": [
       "   alg_name  iter       rmse        r2       mae\n",
       "0   500_MLP     1  43.688098 -0.285689  5.221067\n",
       "1   500_MLP     2  41.528050 -0.023961  5.249898\n",
       "2   500_MLP     3  44.974795 -0.174931  5.250698\n",
       "3   500_MLP     4  58.048237 -0.476797  6.063438\n",
       "4   500_MLP     5  47.828951 -0.101778  5.460061\n",
       "..      ...   ...        ...       ...       ...\n",
       "95  500_MLP    96  86.105625 -0.856170  7.373743\n",
       "96  500_MLP    97  47.155839 -0.019086  5.439292\n",
       "97  500_MLP    98  33.333461  0.240746  4.586515\n",
       "98  500_MLP    99  49.154776 -0.203005  5.424585\n",
       "99  500_MLP   100  47.717019 -0.257172  5.277636\n",
       "\n",
       "[100 rows x 5 columns]"
      ]
     },
     "execution_count": 23,
     "metadata": {},
     "output_type": "execute_result"
    }
   ],
   "source": [
    "full_df"
   ]
  },
  {
   "cell_type": "code",
   "execution_count": 24,
   "metadata": {},
   "outputs": [],
   "source": [
    "full_df.to_excel(f'full_metrics_{PREDICT_IONS}_500_MLP_new.xlsx')\n",
    "#pd.read_excel('full_metrics.xlsx').drop('Unnamed: 0', axis=1)"
   ]
  },
  {
   "cell_type": "code",
   "execution_count": 25,
   "metadata": {},
   "outputs": [
    {
     "data": {
      "text/html": [
       "<div>\n",
       "<style scoped>\n",
       "    .dataframe tbody tr th:only-of-type {\n",
       "        vertical-align: middle;\n",
       "    }\n",
       "\n",
       "    .dataframe tbody tr th {\n",
       "        vertical-align: top;\n",
       "    }\n",
       "\n",
       "    .dataframe thead tr th {\n",
       "        text-align: left;\n",
       "    }\n",
       "\n",
       "    .dataframe thead tr:last-of-type th {\n",
       "        text-align: right;\n",
       "    }\n",
       "</style>\n",
       "<table border=\"1\" class=\"dataframe\">\n",
       "  <thead>\n",
       "    <tr>\n",
       "      <th></th>\n",
       "      <th colspan=\"2\" halign=\"left\">rmse</th>\n",
       "      <th colspan=\"2\" halign=\"left\">r2</th>\n",
       "      <th colspan=\"2\" halign=\"left\">mae</th>\n",
       "    </tr>\n",
       "    <tr>\n",
       "      <th></th>\n",
       "      <th>mean</th>\n",
       "      <th>std</th>\n",
       "      <th>mean</th>\n",
       "      <th>std</th>\n",
       "      <th>mean</th>\n",
       "      <th>std</th>\n",
       "    </tr>\n",
       "    <tr>\n",
       "      <th>alg_name</th>\n",
       "      <th></th>\n",
       "      <th></th>\n",
       "      <th></th>\n",
       "      <th></th>\n",
       "      <th></th>\n",
       "      <th></th>\n",
       "    </tr>\n",
       "  </thead>\n",
       "  <tbody>\n",
       "    <tr>\n",
       "      <th>500_MLP</th>\n",
       "      <td>42.831153</td>\n",
       "      <td>8.904487</td>\n",
       "      <td>-0.010163</td>\n",
       "      <td>0.222801</td>\n",
       "      <td>5.136172</td>\n",
       "      <td>0.53102</td>\n",
       "    </tr>\n",
       "  </tbody>\n",
       "</table>\n",
       "</div>"
      ],
      "text/plain": [
       "               rmse                  r2                 mae         \n",
       "               mean       std      mean       std      mean      std\n",
       "alg_name                                                            \n",
       "500_MLP   42.831153  8.904487 -0.010163  0.222801  5.136172  0.53102"
      ]
     },
     "execution_count": 25,
     "metadata": {},
     "output_type": "execute_result"
    }
   ],
   "source": [
    "aggr_df = full_df.groupby(['alg_name']).agg([\"mean\", \"std\"]).drop(['iter'], axis=1)\n",
    "aggr_df.to_excel(f'aggr_metrics_{PREDICT_IONS}_500_MLP_new.xlsx')\n",
    "aggr_df"
   ]
  },
  {
   "cell_type": "code",
   "execution_count": null,
   "metadata": {},
   "outputs": [],
   "source": []
  },
  {
   "cell_type": "code",
   "execution_count": null,
   "metadata": {},
   "outputs": [],
   "source": []
  }
 ],
 "metadata": {
  "kernelspec": {
   "display_name": ".venv",
   "language": "python",
   "name": "python3"
  },
  "language_info": {
   "codemirror_mode": {
    "name": "ipython",
    "version": 3
   },
   "file_extension": ".py",
   "mimetype": "text/x-python",
   "name": "python",
   "nbconvert_exporter": "python",
   "pygments_lexer": "ipython3",
   "version": "3.9.7"
  }
 },
 "nbformat": 4,
 "nbformat_minor": 2
}
